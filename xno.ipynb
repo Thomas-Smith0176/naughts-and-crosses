{
 "cells": [
  {
   "attachments": {},
   "cell_type": "markdown",
   "metadata": {},
   "source": [
    "# Welcome to my Project\n",
    "## Naughts and Crosses Game\n",
    "In this project I will:\n",
    "- Take user imput from two players\n",
    "- Display game progress visually using matrices\n",
    "- Determine a winner and end the game"
   ]
  },
  {
   "cell_type": "code",
   "execution_count": null,
   "metadata": {},
   "outputs": [],
   "source": []
  },
  {
   "attachments": {},
   "cell_type": "markdown",
   "metadata": {},
   "source": [
    "### Defining print grid function"
   ]
  },
  {
   "cell_type": "code",
   "execution_count": 15,
   "metadata": {},
   "outputs": [],
   "source": [
    "\n",
    "\n",
    "def print_grid(moves):\n",
    "    print(\"\\n\")\n",
    "    print(\"\\t    |     |\")\n",
    "    print(\"\\t {}  |  {}  |  {}\".format(moves[0], moves[1], moves[2]))\n",
    "    print(\"\\t    |     |\")\n",
    "    print(\"\\t----------------\")\n",
    "    print(\"\\t    |     |\")\n",
    "    print(\"\\t {}  |  {}  |  {}\".format(moves[3], moves[4], moves[5]))\n",
    "    print(\"\\t    |     |\")\n",
    "    print(\"\\t----------------\")\n",
    "    print(\"\\t    |     |\")\n",
    "    print(\"\\t {}  |  {}  |  {}\".format(moves[6], moves[7], moves[8]))\n",
    "    print(\"\\t    |     |\")\n"
   ]
  },
  {
   "attachments": {},
   "cell_type": "markdown",
   "metadata": {},
   "source": [
    "### Defining function to check if any win states have been satisfied"
   ]
  },
  {
   "cell_type": "code",
   "execution_count": 16,
   "metadata": {},
   "outputs": [],
   "source": [
    "def win(player, player_log):\n",
    "    wins = [[1,2,3], [4,5,6], [7,8,9], [1,4,7], [2,5,8], [3,6,9], [1,5,9], [7,5,3]]\n",
    "\n",
    "    for x in wins:\n",
    "        if set(x).issubset(player_log[player]):\n",
    "            return True\n",
    "    return False\n",
    "    "
   ]
  },
  {
   "cell_type": "code",
   "execution_count": 17,
   "metadata": {},
   "outputs": [],
   "source": [
    "# log = {'X':[6, 2, 4, 1, 3, 5], 'O':[7, 8, 9]}\n",
    "# print(win('O', log))"
   ]
  },
  {
   "attachments": {},
   "cell_type": "markdown",
   "metadata": {},
   "source": [
    "### Defining draw function to check if no player has won"
   ]
  },
  {
   "cell_type": "code",
   "execution_count": 18,
   "metadata": {},
   "outputs": [],
   "source": [
    "def draw(player, moves, player_log):\n",
    "    count = 0\n",
    "    for x in moves:\n",
    "        if x != ' ':\n",
    "            count += 1\n",
    "    if count == 9 and win(player, player_log) == False:\n",
    "        return True"
   ]
  },
  {
   "attachments": {},
   "cell_type": "markdown",
   "metadata": {},
   "source": [
    "### Defining function for standard game process "
   ]
  },
  {
   "cell_type": "code",
   "execution_count": 19,
   "metadata": {},
   "outputs": [],
   "source": [
    "\n",
    "def game(player):\n",
    "    moves = [' ' for x in range(9)]\n",
    "    player_log = {'X':[], 'O':[]}\n",
    "    player = player1\n",
    "    \n",
    "\n",
    "    while True:\n",
    "        print_grid(moves)\n",
    "        occupied = False\n",
    "\n",
    "        move = int(input(\"{}'s turn, choose a box:\".format(player)))\n",
    "    \n",
    "        if move > 9 or move < 1:\n",
    "            print(\"Input not valid, please enter a number 1-9!\")\n",
    "        elif moves[move -1] != ' ':\n",
    "            occupied = True\n",
    "            print(\"This place is already taken, please try a different place!\")\n",
    "        else:\n",
    "            moves[move -1] = player\n",
    "            player_log[player].append(move)\n",
    "\n",
    "        if win(player, player_log):\n",
    "            print_grid(moves)\n",
    "            print('{} has won the game!'.format(player))\n",
    "            break\n",
    "        \n",
    "\n",
    "        if draw(player, moves, player_log):\n",
    "            print_grid(moves)\n",
    "            print('Draw!')\n",
    "            break\n",
    "            \n",
    "        if player == player1 and occupied == False:\n",
    "            player = player2\n",
    "        elif player == player1 and occupied == True:\n",
    "            player = player1\n",
    "        elif player == player2 and occupied == False:\n",
    "            player = player1\n",
    "        else:\n",
    "            player = player2\n",
    "\n",
    "            "
   ]
  },
  {
   "attachments": {},
   "cell_type": "markdown",
   "metadata": {},
   "source": [
    "### Taking player name inputs"
   ]
  },
  {
   "cell_type": "code",
   "execution_count": 20,
   "metadata": {},
   "outputs": [
    {
     "name": "stdout",
     "output_type": "stream",
     "text": [
      "Player 1 has chosen Xs, Player 2 will be Os!\n"
     ]
    }
   ],
   "source": [
    "player1 = input(\"PLayer 1, please choose X or O and press enter\")\n",
    "player2 = \"\"\n",
    "if player1 == \"X\":\n",
    "    player2 += \"O\" \n",
    "else:\n",
    "     player2 += \"X\"\n",
    "\n",
    "print(\"Player 1 has chosen {}s, Player 2 will be {}s!\".format(player1, player2))\n"
   ]
  },
  {
   "attachments": {},
   "cell_type": "markdown",
   "metadata": {},
   "source": [
    "### Running the game"
   ]
  },
  {
   "cell_type": "code",
   "execution_count": 21,
   "metadata": {},
   "outputs": [
    {
     "name": "stdout",
     "output_type": "stream",
     "text": [
      "\n",
      "\n",
      "\t    |     |\n",
      "\t    |     |   \n",
      "\t    |     |\n",
      "\t----------------\n",
      "\t    |     |\n",
      "\t    |     |   \n",
      "\t    |     |\n",
      "\t----------------\n",
      "\t    |     |\n",
      "\t    |     |   \n",
      "\t    |     |\n",
      "\n",
      "\n",
      "\t    |     |\n",
      "\t X  |     |   \n",
      "\t    |     |\n",
      "\t----------------\n",
      "\t    |     |\n",
      "\t    |     |   \n",
      "\t    |     |\n",
      "\t----------------\n",
      "\t    |     |\n",
      "\t    |     |   \n",
      "\t    |     |\n",
      "This place is already taken, please try a different place!\n",
      "\n",
      "\n",
      "\t    |     |\n",
      "\t X  |     |   \n",
      "\t    |     |\n",
      "\t----------------\n",
      "\t    |     |\n",
      "\t    |     |   \n",
      "\t    |     |\n",
      "\t----------------\n",
      "\t    |     |\n",
      "\t    |     |   \n",
      "\t    |     |\n",
      "\n",
      "\n",
      "\t    |     |\n",
      "\t X  |  O  |   \n",
      "\t    |     |\n",
      "\t----------------\n",
      "\t    |     |\n",
      "\t    |     |   \n",
      "\t    |     |\n",
      "\t----------------\n",
      "\t    |     |\n",
      "\t    |     |   \n",
      "\t    |     |\n",
      "\n",
      "\n",
      "\t    |     |\n",
      "\t X  |  O  |  X\n",
      "\t    |     |\n",
      "\t----------------\n",
      "\t    |     |\n",
      "\t    |     |   \n",
      "\t    |     |\n",
      "\t----------------\n",
      "\t    |     |\n",
      "\t    |     |   \n",
      "\t    |     |\n",
      "This place is already taken, please try a different place!\n",
      "\n",
      "\n",
      "\t    |     |\n",
      "\t X  |  O  |  X\n",
      "\t    |     |\n",
      "\t----------------\n",
      "\t    |     |\n",
      "\t    |     |   \n",
      "\t    |     |\n",
      "\t----------------\n",
      "\t    |     |\n",
      "\t    |     |   \n",
      "\t    |     |\n",
      "This place is already taken, please try a different place!\n",
      "\n",
      "\n",
      "\t    |     |\n",
      "\t X  |  O  |  X\n",
      "\t    |     |\n",
      "\t----------------\n",
      "\t    |     |\n",
      "\t    |     |   \n",
      "\t    |     |\n",
      "\t----------------\n",
      "\t    |     |\n",
      "\t    |     |   \n",
      "\t    |     |\n",
      "\n",
      "\n",
      "\t    |     |\n",
      "\t X  |  O  |  X\n",
      "\t    |     |\n",
      "\t----------------\n",
      "\t    |     |\n",
      "\t O  |     |   \n",
      "\t    |     |\n",
      "\t----------------\n",
      "\t    |     |\n",
      "\t    |     |   \n",
      "\t    |     |\n",
      "\n",
      "\n",
      "\t    |     |\n",
      "\t X  |  O  |  X\n",
      "\t    |     |\n",
      "\t----------------\n",
      "\t    |     |\n",
      "\t O  |  X  |   \n",
      "\t    |     |\n",
      "\t----------------\n",
      "\t    |     |\n",
      "\t    |     |   \n",
      "\t    |     |\n",
      "\n",
      "\n",
      "\t    |     |\n",
      "\t X  |  O  |  X\n",
      "\t    |     |\n",
      "\t----------------\n",
      "\t    |     |\n",
      "\t O  |  X  |  O\n",
      "\t    |     |\n",
      "\t----------------\n",
      "\t    |     |\n",
      "\t    |     |   \n",
      "\t    |     |\n",
      "\n",
      "\n",
      "\t    |     |\n",
      "\t X  |  O  |  X\n",
      "\t    |     |\n",
      "\t----------------\n",
      "\t    |     |\n",
      "\t O  |  X  |  O\n",
      "\t    |     |\n",
      "\t----------------\n",
      "\t    |     |\n",
      "\t X  |     |   \n",
      "\t    |     |\n",
      "X has won the game!\n"
     ]
    }
   ],
   "source": [
    "game(player1)\n",
    "\n"
   ]
  }
 ],
 "metadata": {
  "kernelspec": {
   "display_name": "Python 3",
   "language": "python",
   "name": "python3"
  },
  "language_info": {
   "codemirror_mode": {
    "name": "ipython",
    "version": 3
   },
   "file_extension": ".py",
   "mimetype": "text/x-python",
   "name": "python",
   "nbconvert_exporter": "python",
   "pygments_lexer": "ipython3",
   "version": "3.10.7"
  },
  "orig_nbformat": 4,
  "vscode": {
   "interpreter": {
    "hash": "26de051ba29f2982a8de78e945f0abaf191376122a1563185a90213a26c5da77"
   }
  }
 },
 "nbformat": 4,
 "nbformat_minor": 2
}
