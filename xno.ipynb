{
 "cells": [
  {
   "attachments": {},
   "cell_type": "markdown",
   "metadata": {},
   "source": [
    "# Welcome to my First Project\n",
    "## Naughts and Crosses Game\n",
    "In this project I will:\n",
    "- Take user imput from two players\n",
    "- Display game progress visually using matrices\n",
    "- Determine a winner and end the game"
   ]
  },
  {
   "cell_type": "code",
   "execution_count": 3,
   "metadata": {},
   "outputs": [],
   "source": [
    "import numpy as np"
   ]
  },
  {
   "cell_type": "code",
   "execution_count": 38,
   "metadata": {},
   "outputs": [
    {
     "name": "stdout",
     "output_type": "stream",
     "text": [
      "\n",
      "\n",
      "\t    |     |\n",
      "\t 1  |  2  |  3\n",
      "\t    |     |\n",
      "\t----------------\n",
      "\t    |     |\n",
      "\t 4  |  5  |  6\n",
      "\t    |     |\n",
      "\t----------------\n",
      "\t    |     |\n",
      "\t 7  |  8  |  9\n",
      "\t    |     |\n",
      "None\n"
     ]
    }
   ],
   "source": [
    "\n",
    "\n",
    "def print_grid(values):\n",
    "    print(\"\\n\")\n",
    "    print(\"\\t    |     |\")\n",
    "    print(\"\\t {}  |  {}  |  {}\".format(values[0], values[1], values[2]))\n",
    "    print(\"\\t    |     |\")\n",
    "    print(\"\\t----------------\")\n",
    "    print(\"\\t    |     |\")\n",
    "    print(\"\\t {}  |  {}  |  {}\".format(values[3], values[4], values[5]))\n",
    "    print(\"\\t    |     |\")\n",
    "    print(\"\\t----------------\")\n",
    "    print(\"\\t    |     |\")\n",
    "    print(\"\\t {}  |  {}  |  {}\".format(values[6], values[7], values[8]))\n",
    "    print(\"\\t    |     |\")\n",
    "    \n",
    "\n",
    "print(print_grid(values))"
   ]
  },
  {
   "cell_type": "code",
   "execution_count": 48,
   "metadata": {},
   "outputs": [],
   "source": [
    "board = [[1,2,3], [4,5,6], [7,8,9]]\n",
    "\n",
    "def game(player):\n",
    "    values = [' ' for x in range(9)]\n",
    "    player_loc = {X:[], O:[]}\n",
    "\n",
    "\n",
    "\n"
   ]
  },
  {
   "cell_type": "code",
   "execution_count": 47,
   "metadata": {},
   "outputs": [
    {
     "name": "stdout",
     "output_type": "stream",
     "text": [
      "Player 1 has chosen Xs, Player 2 will be Os!\n"
     ]
    }
   ],
   "source": [
    "player1 = input(\"PLayer 1, please choose X or O and press enter\")\n",
    "player2 = \"\"\n",
    "if player1 == \"X\":\n",
    "    player2 += \"O\" \n",
    "else:\n",
    "     player2 += \"X\"\n",
    "\n",
    "print(\"Player 1 has chosen {}s, Player 2 will be {}s!\".format(player1, player2))"
   ]
  }
 ],
 "metadata": {
  "kernelspec": {
   "display_name": "Python 3",
   "language": "python",
   "name": "python3"
  },
  "language_info": {
   "codemirror_mode": {
    "name": "ipython",
    "version": 3
   },
   "file_extension": ".py",
   "mimetype": "text/x-python",
   "name": "python",
   "nbconvert_exporter": "python",
   "pygments_lexer": "ipython3",
   "version": "3.10.7"
  },
  "orig_nbformat": 4,
  "vscode": {
   "interpreter": {
    "hash": "26de051ba29f2982a8de78e945f0abaf191376122a1563185a90213a26c5da77"
   }
  }
 },
 "nbformat": 4,
 "nbformat_minor": 2
}
